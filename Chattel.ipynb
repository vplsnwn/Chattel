{
 "cells": [
  {
   "cell_type": "code",
   "execution_count": 9,
   "metadata": {},
   "outputs": [
    {
     "name": "stderr",
     "output_type": "stream",
     "text": [
      "2020-05-22 20:30:07 DESKTOP-UBG1AED selenium.webdriver.remote.remote_connection[9008] DEBUG POST http://127.0.0.1:50827/session {\"capabilities\": {\"firstMatch\": [{}], \"alwaysMatch\": {\"browserName\": \"chrome\", \"platformName\": \"any\", \"goog:chromeOptions\": {\"extensions\": [], \"args\": []}}}, \"desiredCapabilities\": {\"browserName\": \"chrome\", \"version\": \"\", \"platform\": \"ANY\", \"goog:chromeOptions\": {\"extensions\": [], \"args\": []}}}\n",
      "2020-05-22 20:30:07 DESKTOP-UBG1AED urllib3.connectionpool[9008] DEBUG Starting new HTTP connection (1): 127.0.0.1:50827\n",
      "2020-05-22 20:30:11 DESKTOP-UBG1AED urllib3.connectionpool[9008] DEBUG http://127.0.0.1:50827 \"POST /session HTTP/1.1\" 500 1076\n",
      "2020-05-22 20:30:11 DESKTOP-UBG1AED selenium.webdriver.remote.remote_connection[9008] DEBUG Finished Request\n"
     ]
    },
    {
     "ename": "SessionNotCreatedException",
     "evalue": "Message: session not created\nfrom chrome not reachable\n  (Session info: chrome=83.0.4103.61)\n",
     "output_type": "error",
     "traceback": [
      "\u001b[1;31m---------------------------------------------------------------------------\u001b[0m",
      "\u001b[1;31mSessionNotCreatedException\u001b[0m                Traceback (most recent call last)",
      "\u001b[1;32m<ipython-input-9-28d6c9ec59c9>\u001b[0m in \u001b[0;36m<module>\u001b[1;34m\u001b[0m\n\u001b[0;32m     45\u001b[0m \u001b[1;31m#driver = webdriver.Chrome(executable_path=os.path.abspath(\"chromedriver.exe\"))\u001b[0m\u001b[1;33m\u001b[0m\u001b[1;33m\u001b[0m\u001b[1;33m\u001b[0m\u001b[0m\n\u001b[0;32m     46\u001b[0m \u001b[1;31m#driver = webdriver.Chrome(executable_path=path , options=options)\u001b[0m\u001b[1;33m\u001b[0m\u001b[1;33m\u001b[0m\u001b[1;33m\u001b[0m\u001b[0m\n\u001b[1;32m---> 47\u001b[1;33m \u001b[0mdriver\u001b[0m \u001b[1;33m=\u001b[0m \u001b[0mwebdriver\u001b[0m\u001b[1;33m.\u001b[0m\u001b[0mChrome\u001b[0m\u001b[1;33m(\u001b[0m\u001b[0mexecutable_path\u001b[0m \u001b[1;33m=\u001b[0m \u001b[1;34m\"C://Users//Hp//Downloads//chrome version//chromedriver.exe\"\u001b[0m\u001b[1;33m)\u001b[0m\u001b[1;33m\u001b[0m\u001b[1;33m\u001b[0m\u001b[0m\n\u001b[0m\u001b[0;32m     48\u001b[0m \u001b[1;31m#driver.get('http://google.com/')\u001b[0m\u001b[1;33m\u001b[0m\u001b[1;33m\u001b[0m\u001b[1;33m\u001b[0m\u001b[0m\n\u001b[0;32m     49\u001b[0m \u001b[1;33m\u001b[0m\u001b[0m\n",
      "\u001b[1;32m~\\Anaconda3\\lib\\site-packages\\selenium\\webdriver\\chrome\\webdriver.py\u001b[0m in \u001b[0;36m__init__\u001b[1;34m(self, executable_path, port, options, service_args, desired_capabilities, service_log_path, chrome_options, keep_alive)\u001b[0m\n\u001b[0;32m     79\u001b[0m                     \u001b[0mremote_server_addr\u001b[0m\u001b[1;33m=\u001b[0m\u001b[0mself\u001b[0m\u001b[1;33m.\u001b[0m\u001b[0mservice\u001b[0m\u001b[1;33m.\u001b[0m\u001b[0mservice_url\u001b[0m\u001b[1;33m,\u001b[0m\u001b[1;33m\u001b[0m\u001b[1;33m\u001b[0m\u001b[0m\n\u001b[0;32m     80\u001b[0m                     keep_alive=keep_alive),\n\u001b[1;32m---> 81\u001b[1;33m                 desired_capabilities=desired_capabilities)\n\u001b[0m\u001b[0;32m     82\u001b[0m         \u001b[1;32mexcept\u001b[0m \u001b[0mException\u001b[0m\u001b[1;33m:\u001b[0m\u001b[1;33m\u001b[0m\u001b[1;33m\u001b[0m\u001b[0m\n\u001b[0;32m     83\u001b[0m             \u001b[0mself\u001b[0m\u001b[1;33m.\u001b[0m\u001b[0mquit\u001b[0m\u001b[1;33m(\u001b[0m\u001b[1;33m)\u001b[0m\u001b[1;33m\u001b[0m\u001b[1;33m\u001b[0m\u001b[0m\n",
      "\u001b[1;32m~\\Anaconda3\\lib\\site-packages\\selenium\\webdriver\\remote\\webdriver.py\u001b[0m in \u001b[0;36m__init__\u001b[1;34m(self, command_executor, desired_capabilities, browser_profile, proxy, keep_alive, file_detector, options)\u001b[0m\n\u001b[0;32m    155\u001b[0m             warnings.warn(\"Please use FirefoxOptions to set browser profile\",\n\u001b[0;32m    156\u001b[0m                           DeprecationWarning, stacklevel=2)\n\u001b[1;32m--> 157\u001b[1;33m         \u001b[0mself\u001b[0m\u001b[1;33m.\u001b[0m\u001b[0mstart_session\u001b[0m\u001b[1;33m(\u001b[0m\u001b[0mcapabilities\u001b[0m\u001b[1;33m,\u001b[0m \u001b[0mbrowser_profile\u001b[0m\u001b[1;33m)\u001b[0m\u001b[1;33m\u001b[0m\u001b[1;33m\u001b[0m\u001b[0m\n\u001b[0m\u001b[0;32m    158\u001b[0m         \u001b[0mself\u001b[0m\u001b[1;33m.\u001b[0m\u001b[0m_switch_to\u001b[0m \u001b[1;33m=\u001b[0m \u001b[0mSwitchTo\u001b[0m\u001b[1;33m(\u001b[0m\u001b[0mself\u001b[0m\u001b[1;33m)\u001b[0m\u001b[1;33m\u001b[0m\u001b[1;33m\u001b[0m\u001b[0m\n\u001b[0;32m    159\u001b[0m         \u001b[0mself\u001b[0m\u001b[1;33m.\u001b[0m\u001b[0m_mobile\u001b[0m \u001b[1;33m=\u001b[0m \u001b[0mMobile\u001b[0m\u001b[1;33m(\u001b[0m\u001b[0mself\u001b[0m\u001b[1;33m)\u001b[0m\u001b[1;33m\u001b[0m\u001b[1;33m\u001b[0m\u001b[0m\n",
      "\u001b[1;32m~\\Anaconda3\\lib\\site-packages\\selenium\\webdriver\\remote\\webdriver.py\u001b[0m in \u001b[0;36mstart_session\u001b[1;34m(self, capabilities, browser_profile)\u001b[0m\n\u001b[0;32m    250\u001b[0m         parameters = {\"capabilities\": w3c_caps,\n\u001b[0;32m    251\u001b[0m                       \"desiredCapabilities\": capabilities}\n\u001b[1;32m--> 252\u001b[1;33m         \u001b[0mresponse\u001b[0m \u001b[1;33m=\u001b[0m \u001b[0mself\u001b[0m\u001b[1;33m.\u001b[0m\u001b[0mexecute\u001b[0m\u001b[1;33m(\u001b[0m\u001b[0mCommand\u001b[0m\u001b[1;33m.\u001b[0m\u001b[0mNEW_SESSION\u001b[0m\u001b[1;33m,\u001b[0m \u001b[0mparameters\u001b[0m\u001b[1;33m)\u001b[0m\u001b[1;33m\u001b[0m\u001b[1;33m\u001b[0m\u001b[0m\n\u001b[0m\u001b[0;32m    253\u001b[0m         \u001b[1;32mif\u001b[0m \u001b[1;34m'sessionId'\u001b[0m \u001b[1;32mnot\u001b[0m \u001b[1;32min\u001b[0m \u001b[0mresponse\u001b[0m\u001b[1;33m:\u001b[0m\u001b[1;33m\u001b[0m\u001b[1;33m\u001b[0m\u001b[0m\n\u001b[0;32m    254\u001b[0m             \u001b[0mresponse\u001b[0m \u001b[1;33m=\u001b[0m \u001b[0mresponse\u001b[0m\u001b[1;33m[\u001b[0m\u001b[1;34m'value'\u001b[0m\u001b[1;33m]\u001b[0m\u001b[1;33m\u001b[0m\u001b[1;33m\u001b[0m\u001b[0m\n",
      "\u001b[1;32m~\\Anaconda3\\lib\\site-packages\\selenium\\webdriver\\remote\\webdriver.py\u001b[0m in \u001b[0;36mexecute\u001b[1;34m(self, driver_command, params)\u001b[0m\n\u001b[0;32m    319\u001b[0m         \u001b[0mresponse\u001b[0m \u001b[1;33m=\u001b[0m \u001b[0mself\u001b[0m\u001b[1;33m.\u001b[0m\u001b[0mcommand_executor\u001b[0m\u001b[1;33m.\u001b[0m\u001b[0mexecute\u001b[0m\u001b[1;33m(\u001b[0m\u001b[0mdriver_command\u001b[0m\u001b[1;33m,\u001b[0m \u001b[0mparams\u001b[0m\u001b[1;33m)\u001b[0m\u001b[1;33m\u001b[0m\u001b[1;33m\u001b[0m\u001b[0m\n\u001b[0;32m    320\u001b[0m         \u001b[1;32mif\u001b[0m \u001b[0mresponse\u001b[0m\u001b[1;33m:\u001b[0m\u001b[1;33m\u001b[0m\u001b[1;33m\u001b[0m\u001b[0m\n\u001b[1;32m--> 321\u001b[1;33m             \u001b[0mself\u001b[0m\u001b[1;33m.\u001b[0m\u001b[0merror_handler\u001b[0m\u001b[1;33m.\u001b[0m\u001b[0mcheck_response\u001b[0m\u001b[1;33m(\u001b[0m\u001b[0mresponse\u001b[0m\u001b[1;33m)\u001b[0m\u001b[1;33m\u001b[0m\u001b[1;33m\u001b[0m\u001b[0m\n\u001b[0m\u001b[0;32m    322\u001b[0m             response['value'] = self._unwrap_value(\n\u001b[0;32m    323\u001b[0m                 response.get('value', None))\n",
      "\u001b[1;32m~\\Anaconda3\\lib\\site-packages\\selenium\\webdriver\\remote\\errorhandler.py\u001b[0m in \u001b[0;36mcheck_response\u001b[1;34m(self, response)\u001b[0m\n\u001b[0;32m    240\u001b[0m                 \u001b[0malert_text\u001b[0m \u001b[1;33m=\u001b[0m \u001b[0mvalue\u001b[0m\u001b[1;33m[\u001b[0m\u001b[1;34m'alert'\u001b[0m\u001b[1;33m]\u001b[0m\u001b[1;33m.\u001b[0m\u001b[0mget\u001b[0m\u001b[1;33m(\u001b[0m\u001b[1;34m'text'\u001b[0m\u001b[1;33m)\u001b[0m\u001b[1;33m\u001b[0m\u001b[1;33m\u001b[0m\u001b[0m\n\u001b[0;32m    241\u001b[0m             \u001b[1;32mraise\u001b[0m \u001b[0mexception_class\u001b[0m\u001b[1;33m(\u001b[0m\u001b[0mmessage\u001b[0m\u001b[1;33m,\u001b[0m \u001b[0mscreen\u001b[0m\u001b[1;33m,\u001b[0m \u001b[0mstacktrace\u001b[0m\u001b[1;33m,\u001b[0m \u001b[0malert_text\u001b[0m\u001b[1;33m)\u001b[0m\u001b[1;33m\u001b[0m\u001b[1;33m\u001b[0m\u001b[0m\n\u001b[1;32m--> 242\u001b[1;33m         \u001b[1;32mraise\u001b[0m \u001b[0mexception_class\u001b[0m\u001b[1;33m(\u001b[0m\u001b[0mmessage\u001b[0m\u001b[1;33m,\u001b[0m \u001b[0mscreen\u001b[0m\u001b[1;33m,\u001b[0m \u001b[0mstacktrace\u001b[0m\u001b[1;33m)\u001b[0m\u001b[1;33m\u001b[0m\u001b[1;33m\u001b[0m\u001b[0m\n\u001b[0m\u001b[0;32m    243\u001b[0m \u001b[1;33m\u001b[0m\u001b[0m\n\u001b[0;32m    244\u001b[0m     \u001b[1;32mdef\u001b[0m \u001b[0m_value_or_default\u001b[0m\u001b[1;33m(\u001b[0m\u001b[0mself\u001b[0m\u001b[1;33m,\u001b[0m \u001b[0mobj\u001b[0m\u001b[1;33m,\u001b[0m \u001b[0mkey\u001b[0m\u001b[1;33m,\u001b[0m \u001b[0mdefault\u001b[0m\u001b[1;33m)\u001b[0m\u001b[1;33m:\u001b[0m\u001b[1;33m\u001b[0m\u001b[1;33m\u001b[0m\u001b[0m\n",
      "\u001b[1;31mSessionNotCreatedException\u001b[0m: Message: session not created\nfrom chrome not reachable\n  (Session info: chrome=83.0.4103.61)\n"
     ]
    }
   ],
   "source": [
    "import lxml.html as lh\n",
    "import time\n",
    "import urllib.request\n",
    "import argparse\n",
    "import datetime\n",
    "import pytz\n",
    "from selenium import webdriver\n",
    "from selenium.common.exceptions import StaleElementReferenceException\n",
    "import os\n",
    "import coloredlogs\n",
    "from selenium import webdriver\n",
    "from webdriver_manager.chrome import ChromeDriverManager\n",
    "\n",
    "from argparse import ArgumentParser,SUPPRESS\n",
    "import sys\n",
    "\n",
    "from docopt import docopt\n",
    "from trading_bot.ops import get_state\n",
    "from trading_bot.agent import Agent\n",
    "from trading_bot.methods import evaluate_model\n",
    "from trading_bot.utils import (\n",
    "    get_stock_data,\n",
    "    format_currency,\n",
    "    format_position,\n",
    "    show_eval_result,\n",
    "    switch_k_backend_device\n",
    ")\n",
    "\n",
    "\n",
    "\n",
    "\n",
    "tz = pytz.timezone('Asia/Kolkata')\n",
    "\n",
    "path1 = os.getcwd()\n",
    "path = path1 + '/chromedriver'\n",
    "\n",
    "ignored_exceptions=(StaleElementReferenceException,)\n",
    "options = webdriver.ChromeOptions()\n",
    "options.add_argument('--no-sandbox')\n",
    "options.add_argument('--disable-dev-shm-usage')\n",
    "options.add_argument('--headless')\n",
    "options.add_experimental_option('excludeSwitches', ['enable-logging'])\n",
    "#options.add_argument(f'user-agent={userAgent}')\n",
    "#driver = webdriver.Chrome(ChromeDriverManager().install())\n",
    "#driver = webdriver.Chrome(executable_path=os.path.abspath(\"chromedriver.exe\"))\n",
    "#driver = webdriver.Chrome(executable_path=path , options=options)\n",
    "driver = webdriver.Chrome(executable_path = \"C://Users//Hp//Downloads//chrome version//chromedriver.exe\")\n",
    "#driver.get('http://google.com/')\n",
    "\n",
    "\n",
    "#This function returns the table of the given url\n",
    "def Real(url,count):\n",
    "    \n",
    "    if count == 0:\n",
    "        \n",
    "        driver.get(url)\n",
    "        #print(driver)\n",
    "\n",
    "    else:\n",
    "        driver.refresh()\n",
    "        time.sleep(15)\n",
    "\n",
    "    infile = driver.page_source\n",
    "    doc = lh.fromstring(infile)\n",
    "    live = doc.xpath('/html/body/div[1]/div/div/div[1]/div/div[2]/div/div/div[4]/div/div/div/div[3]/div/div/span[1]')\n",
    "    live = float(live[0].text.replace(',',''))\n",
    "    return live \n",
    "\n",
    "def main(args):\n",
    "    count = 0\n",
    "    total_profit = 0\n",
    "    t=0\n",
    "    history = []\n",
    "    reward = 0\n",
    "    ticker = args.ticker + '.NS'\n",
    "    price = []\n",
    "    window_size =10\n",
    "    time_now = datetime.datetime.now(tz).time()\n",
    "    while(datetime.time(9, 14, tzinfo=tz) < time_now < datetime.time(15, 31, tzinfo=tz)):\n",
    "        url = 'https://finance.yahoo.com/quote/{}?p={}&.tsrc=fin-srch'.format(ticker,ticker)\n",
    "        print(count)\n",
    "        live = Real(url,count)\n",
    "        count+=1        \n",
    "        price.append(live)\n",
    "        if count < window_size:\n",
    "           continue\n",
    "        model_name='model_debug_50'  \n",
    "        print(live)\n",
    "        initial_offset = price[1] - price[0]\n",
    "        state = get_state(price, 0, window_size + 1)\n",
    "        next_state = get_state(price, t + 1, window_size + 1)\n",
    "        agent = Agent(state_size=window_size, pretrained=True, model_name=model_name)\n",
    "        agent.inventory = []\n",
    "        profit = evaluate_model(agent,state,next_state, price, t, total_profit, history, reward, window_size=window_size)\n",
    "        show_eval_result(model_name, profit, initial_offset)\n",
    "        t+=1\n",
    "        state = next_state\n",
    "def evaluate_model(agent, state, next_state, data, t, total_profit, history, reward, window_size, debug=False):\n",
    "  \n",
    "    print(t)\n",
    "        # select an action\n",
    "    action = agent.act(state, is_eval=True)\n",
    "\n",
    "        # BUY\n",
    "    if action == 1:\n",
    "        agent.inventory.append(data[t])\n",
    "\n",
    "        history.append((data[t], \"BUY\"))\n",
    "        if debug:\n",
    "            logging.debug(\"Buy at: {}\".format(format_currency(data[t])))\n",
    "\n",
    "        # SELL\n",
    "    elif action == 2 and len(agent.inventory) > 0:\n",
    "        bought_price = agent.inventory.pop(0)\n",
    "        delta = data[t] - bought_price\n",
    "        reward = delta #max(delta, 0)\n",
    "        total_profit += delta\n",
    "\n",
    "        history.append((data[t], \"SELL\"))\n",
    "        if debug:\n",
    "            logging.debug(\"Sell at: {} | Position: {}\".format(\n",
    "                    format_currency(data[t]), format_position(data[t] - bought_price)))\n",
    "        # HOLD\n",
    "    else:\n",
    "        history.append((data[t], \"HOLD\"))\n",
    "\n",
    "#        done = (t == data_length - 1)\n",
    "    agent.memory.append((state, action, reward, next_state))\n",
    "\n",
    "    return total_profit\n",
    "\n",
    "if __name__ == \"__main__\":\n",
    "    parser = argparse.ArgumentParser()\n",
    "    parser.add_argument('ticker', help = 'ticker')\n",
    "    args = parser.parse_args(args=[])\n",
    " \n",
    "    coloredlogs.install(level=\"DEBUG\")\n",
    "    switch_k_backend_device()\n",
    "\n",
    "    try:\n",
    "        main(args)\n",
    "    except KeyboardInterrupt:\n",
    "        print(\"Aborted\")\n",
    "    #sys.exit(app.exec_())"
   ]
  },
  {
   "cell_type": "code",
   "execution_count": 2,
   "metadata": {},
   "outputs": [
    {
     "name": "stdout",
     "output_type": "stream",
     "text": [
      "Collecting keras\n",
      "  Downloading Keras-2.3.1-py2.py3-none-any.whl (377 kB)\n",
      "Requirement already satisfied: scipy>=0.14 in c:\\users\\hp\\anaconda3\\lib\\site-packages (from keras) (1.4.1)\n",
      "Requirement already satisfied: keras-preprocessing>=1.0.5 in c:\\users\\hp\\anaconda3\\lib\\site-packages (from keras) (1.1.2)\n",
      "Requirement already satisfied: six>=1.9.0 in c:\\users\\hp\\anaconda3\\lib\\site-packages (from keras) (1.12.0)\n",
      "Requirement already satisfied: pyyaml in c:\\users\\hp\\appdata\\roaming\\python\\python37\\site-packages (from keras) (5.3.1)\n",
      "Collecting keras-applications>=1.0.6\n",
      "  Downloading Keras_Applications-1.0.8-py3-none-any.whl (50 kB)\n",
      "Requirement already satisfied: numpy>=1.9.1 in c:\\users\\hp\\anaconda3\\lib\\site-packages (from keras) (1.16.5)\n",
      "Requirement already satisfied: h5py in c:\\users\\hp\\anaconda3\\lib\\site-packages (from keras) (2.10.0)\n",
      "Installing collected packages: keras-applications, keras\n",
      "Successfully installed keras-2.3.1 keras-applications-1.0.8\n"
     ]
    }
   ],
   "source": [
    "!pip3 install keras"
   ]
  },
  {
   "cell_type": "code",
   "execution_count": 5,
   "metadata": {},
   "outputs": [
    {
     "name": "stdout",
     "output_type": "stream",
     "text": [
      "Collecting webdriver-manager\n",
      "  Downloading webdriver_manager-2.5.2-py2.py3-none-any.whl (15 kB)\n",
      "Requirement already satisfied: requests in c:\\users\\hp\\anaconda3\\lib\\site-packages (from webdriver-manager) (2.22.0)\n",
      "Collecting crayons\n",
      "  Downloading crayons-0.3.0-py2.py3-none-any.whl (4.6 kB)\n",
      "Collecting configparser\n",
      "  Downloading configparser-5.0.0-py3-none-any.whl (22 kB)\n",
      "Requirement already satisfied: certifi>=2017.4.17 in c:\\users\\hp\\anaconda3\\lib\\site-packages (from requests->webdriver-manager) (2019.9.11)\n",
      "Requirement already satisfied: chardet<3.1.0,>=3.0.2 in c:\\users\\hp\\anaconda3\\lib\\site-packages (from requests->webdriver-manager) (3.0.4)\n",
      "Requirement already satisfied: idna<2.9,>=2.5 in c:\\users\\hp\\anaconda3\\lib\\site-packages (from requests->webdriver-manager) (2.8)\n",
      "Requirement already satisfied: urllib3!=1.25.0,!=1.25.1,<1.26,>=1.21.1 in c:\\users\\hp\\anaconda3\\lib\\site-packages (from requests->webdriver-manager) (1.24.2)\n",
      "Requirement already satisfied: colorama in c:\\users\\hp\\anaconda3\\lib\\site-packages (from crayons->webdriver-manager) (0.4.1)\n",
      "Installing collected packages: crayons, configparser, webdriver-manager\n",
      "Successfully installed configparser-5.0.0 crayons-0.3.0 webdriver-manager-2.5.2\n"
     ]
    }
   ],
   "source": [
    "!pip3 install webdriver-manager"
   ]
  },
  {
   "cell_type": "code",
   "execution_count": 29,
   "metadata": {},
   "outputs": [
    {
     "name": "stdout",
     "output_type": "stream",
     "text": [
      "Collecting ticker\n",
      "  Downloading ticker-0.13.zip (4.8 kB)\n",
      "Requirement already satisfied: BeautifulSoup4 in c:\\users\\hp\\anaconda3\\lib\\site-packages (from ticker) (4.8.0)\n",
      "Requirement already satisfied: requests in c:\\users\\hp\\anaconda3\\lib\\site-packages (from ticker) (2.22.0)\n",
      "Requirement already satisfied: soupsieve>=1.2 in c:\\users\\hp\\anaconda3\\lib\\site-packages (from BeautifulSoup4->ticker) (1.9.3)\n",
      "Requirement already satisfied: urllib3!=1.25.0,!=1.25.1,<1.26,>=1.21.1 in c:\\users\\hp\\anaconda3\\lib\\site-packages (from requests->ticker) (1.24.2)\n",
      "Requirement already satisfied: idna<2.9,>=2.5 in c:\\users\\hp\\anaconda3\\lib\\site-packages (from requests->ticker) (2.8)\n",
      "Requirement already satisfied: certifi>=2017.4.17 in c:\\users\\hp\\anaconda3\\lib\\site-packages (from requests->ticker) (2019.9.11)\n",
      "Requirement already satisfied: chardet<3.1.0,>=3.0.2 in c:\\users\\hp\\anaconda3\\lib\\site-packages (from requests->ticker) (3.0.4)\n",
      "Building wheels for collected packages: ticker\n",
      "  Building wheel for ticker (setup.py): started\n",
      "  Building wheel for ticker (setup.py): finished with status 'done'\n",
      "  Created wheel for ticker: filename=ticker-0.13-py3-none-any.whl size=3757 sha256=a096244efc7ec5953bbd850ce249699cefbeacd050c9b89cfaab0cea2f94927d\n",
      "  Stored in directory: c:\\users\\hp\\appdata\\local\\pip\\cache\\wheels\\9e\\18\\c6\\a3df0fe6e71ceaa924fe5f75399682d2e347c082c744e60a9c\n",
      "Successfully built ticker\n",
      "Installing collected packages: ticker\n",
      "Successfully installed ticker-0.13\n"
     ]
    }
   ],
   "source": [
    "!pip3 install ticker"
   ]
  },
  {
   "cell_type": "code",
   "execution_count": 46,
   "metadata": {},
   "outputs": [
    {
     "name": "stdout",
     "output_type": "stream",
     "text": [
      "Collecting coursera\n",
      "  Downloading coursera-0.5.2.tar.gz (54 kB)\n",
      "Requirement already satisfied: beautifulsoup4>=4.1.3 in c:\\users\\hp\\anaconda3\\lib\\site-packages (from coursera) (4.8.0)\n",
      "Requirement already satisfied: html5lib>=1.0b2 in c:\\users\\hp\\anaconda3\\lib\\site-packages (from coursera) (1.0.1)\n",
      "Requirement already satisfied: requests>=2.4.3 in c:\\users\\hp\\anaconda3\\lib\\site-packages (from coursera) (2.22.0)\n",
      "Requirement already satisfied: six>=1.5.0 in c:\\users\\hp\\anaconda3\\lib\\site-packages (from coursera) (1.12.0)\n",
      "Requirement already satisfied: urllib3>=1.10 in c:\\users\\hp\\anaconda3\\lib\\site-packages (from coursera) (1.24.2)\n",
      "Requirement already satisfied: pyasn1>=0.1.7 in c:\\users\\hp\\anaconda3\\lib\\site-packages (from coursera) (0.4.8)\n",
      "Requirement already satisfied: keyring>=4.0 in c:\\users\\hp\\anaconda3\\lib\\site-packages (from coursera) (18.0.0)\n",
      "Requirement already satisfied: soupsieve>=1.2 in c:\\users\\hp\\anaconda3\\lib\\site-packages (from beautifulsoup4>=4.1.3->coursera) (1.9.3)\n",
      "Requirement already satisfied: webencodings in c:\\users\\hp\\anaconda3\\lib\\site-packages (from html5lib>=1.0b2->coursera) (0.5.1)\n",
      "Requirement already satisfied: certifi>=2017.4.17 in c:\\users\\hp\\anaconda3\\lib\\site-packages (from requests>=2.4.3->coursera) (2019.9.11)\n",
      "Requirement already satisfied: chardet<3.1.0,>=3.0.2 in c:\\users\\hp\\anaconda3\\lib\\site-packages (from requests>=2.4.3->coursera) (3.0.4)\n",
      "Requirement already satisfied: idna<2.9,>=2.5 in c:\\users\\hp\\anaconda3\\lib\\site-packages (from requests>=2.4.3->coursera) (2.8)\n",
      "Requirement already satisfied: pywin32; sys_platform == \"win32\" in c:\\users\\hp\\anaconda3\\lib\\site-packages (from keyring>=4.0->coursera) (223)\n",
      "Requirement already satisfied: entrypoints in c:\\users\\hp\\anaconda3\\lib\\site-packages (from keyring>=4.0->coursera) (0.3)\n",
      "Building wheels for collected packages: coursera\n",
      "  Building wheel for coursera (setup.py): started\n",
      "  Building wheel for coursera (setup.py): finished with status 'done'\n",
      "  Created wheel for coursera: filename=coursera-0.5.2-py3-none-any.whl size=39379 sha256=8aac79e92c0e7feb0738a8f20836ae55b596ee54f824a61eaea7bcb0a96fe817\n",
      "  Stored in directory: c:\\users\\hp\\appdata\\local\\pip\\cache\\wheels\\87\\60\\f4\\bbb03292a31ed05c0749d2d057028f839ddd462b905cf21baf\n",
      "Successfully built coursera\n",
      "Installing collected packages: coursera\n",
      "Successfully installed coursera-0.5.2\n"
     ]
    }
   ],
   "source": [
    "!pip3 install coursera"
   ]
  },
  {
   "cell_type": "code",
   "execution_count": 49,
   "metadata": {},
   "outputs": [
    {
     "name": "stdout",
     "output_type": "stream",
     "text": [
      "Collecting plac\n",
      "  Downloading plac-1.1.3-py2.py3-none-any.whl (20 kB)\n",
      "Installing collected packages: plac\n",
      "Successfully installed plac-1.1.3\n"
     ]
    }
   ],
   "source": [
    "!pip3 install plac"
   ]
  },
  {
   "cell_type": "code",
   "execution_count": 72,
   "metadata": {},
   "outputs": [
    {
     "name": "stdout",
     "output_type": "stream",
     "text": [
      "Requirement already satisfied: ipykernel in c:\\users\\hp\\anaconda3\\lib\\site-packages (5.1.2)\n",
      "Requirement already satisfied: jupyter-client in c:\\users\\hp\\anaconda3\\lib\\site-packages (from ipykernel) (5.3.3)\n",
      "Requirement already satisfied: ipython>=5.0.0 in c:\\users\\hp\\anaconda3\\lib\\site-packages (from ipykernel) (7.8.0)\n",
      "Requirement already satisfied: traitlets>=4.1.0 in c:\\users\\hp\\anaconda3\\lib\\site-packages (from ipykernel) (4.3.3)\n",
      "Requirement already satisfied: tornado>=4.2 in c:\\users\\hp\\anaconda3\\lib\\site-packages (from ipykernel) (6.0.3)\n",
      "Requirement already satisfied: jupyter-core in c:\\users\\hp\\anaconda3\\lib\\site-packages (from jupyter-client->ipykernel) (4.5.0)\n",
      "Requirement already satisfied: pyzmq>=13 in c:\\users\\hp\\anaconda3\\lib\\site-packages (from jupyter-client->ipykernel) (18.1.0)\n",
      "Requirement already satisfied: pywin32>=1.0; sys_platform == \"win32\" in c:\\users\\hp\\anaconda3\\lib\\site-packages (from jupyter-client->ipykernel) (223)\n",
      "Requirement already satisfied: python-dateutil>=2.1 in c:\\users\\hp\\anaconda3\\lib\\site-packages (from jupyter-client->ipykernel) (2.8.0)\n",
      "Requirement already satisfied: colorama; sys_platform == \"win32\" in c:\\users\\hp\\anaconda3\\lib\\site-packages (from ipython>=5.0.0->ipykernel) (0.4.1)\n",
      "Requirement already satisfied: pickleshare in c:\\users\\hp\\anaconda3\\lib\\site-packages (from ipython>=5.0.0->ipykernel) (0.7.5)\n",
      "Requirement already satisfied: prompt-toolkit<2.1.0,>=2.0.0 in c:\\users\\hp\\anaconda3\\lib\\site-packages (from ipython>=5.0.0->ipykernel) (2.0.10)\n",
      "Requirement already satisfied: pygments in c:\\users\\hp\\anaconda3\\lib\\site-packages (from ipython>=5.0.0->ipykernel) (2.4.2)\n",
      "Requirement already satisfied: decorator in c:\\users\\hp\\anaconda3\\lib\\site-packages (from ipython>=5.0.0->ipykernel) (4.4.0)\n",
      "Requirement already satisfied: backcall in c:\\users\\hp\\anaconda3\\lib\\site-packages (from ipython>=5.0.0->ipykernel) (0.1.0)\n",
      "Requirement already satisfied: jedi>=0.10 in c:\\users\\hp\\anaconda3\\lib\\site-packages (from ipython>=5.0.0->ipykernel) (0.15.1)\n",
      "Requirement already satisfied: setuptools>=18.5 in c:\\users\\hp\\anaconda3\\lib\\site-packages (from ipython>=5.0.0->ipykernel) (41.4.0)\n",
      "Requirement already satisfied: six in c:\\users\\hp\\anaconda3\\lib\\site-packages (from traitlets>=4.1.0->ipykernel) (1.12.0)\n",
      "Requirement already satisfied: ipython-genutils in c:\\users\\hp\\anaconda3\\lib\\site-packages (from traitlets>=4.1.0->ipykernel) (0.2.0)\n",
      "Requirement already satisfied: wcwidth in c:\\users\\hp\\anaconda3\\lib\\site-packages (from prompt-toolkit<2.1.0,>=2.0.0->ipython>=5.0.0->ipykernel) (0.1.7)\n",
      "Requirement already satisfied: parso>=0.5.0 in c:\\users\\hp\\anaconda3\\lib\\site-packages (from jedi>=0.10->ipython>=5.0.0->ipykernel) (0.5.1)\n"
     ]
    }
   ],
   "source": [
    "!pip3 install ipykernel"
   ]
  },
  {
   "cell_type": "code",
   "execution_count": null,
   "metadata": {},
   "outputs": [],
   "source": []
  }
 ],
 "metadata": {
  "kernelspec": {
   "display_name": "Python 3",
   "language": "python",
   "name": "python3"
  },
  "language_info": {
   "codemirror_mode": {
    "name": "ipython",
    "version": 3
   },
   "file_extension": ".py",
   "mimetype": "text/x-python",
   "name": "python",
   "nbconvert_exporter": "python",
   "pygments_lexer": "ipython3",
   "version": "3.7.4"
  }
 },
 "nbformat": 4,
 "nbformat_minor": 2
}
